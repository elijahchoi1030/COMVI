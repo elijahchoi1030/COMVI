{
 "cells": [
  {
   "cell_type": "code",
   "execution_count": 35,
   "metadata": {},
   "outputs": [],
   "source": [
    "import cv2\n",
    "import numpy as np\n",
    "\n",
    "def rms(img1, img2):\n",
    "    # This function calculates RMS error between two grayscale images. \n",
    "    # Two images should have same sizes.\n",
    "    if (img1.shape[0] != img2.shape[0]) or (img1.shape[1] != img2.shape[1]):\n",
    "        raise Exception(\"img1 and img2 should have the same sizes.\")\n",
    "\n",
    "    diff = np.abs(img1.astype(np.int32) - img2.astype(np.int32))\n",
    "\n",
    "    return np.sqrt(np.mean(diff ** 2))\n",
    "\n",
    "\n",
    "import random"
   ]
  },
  {
   "cell_type": "code",
   "execution_count": 3,
   "metadata": {},
   "outputs": [
    {
     "name": "stdout",
     "output_type": "stream",
     "text": [
      "RMS for Gaussian noise: 0.0\n"
     ]
    },
    {
     "data": {
      "text/plain": [
       "True"
      ]
     },
     "execution_count": 3,
     "metadata": {},
     "output_type": "execute_result"
    }
   ],
   "source": [
    "original = cv2.imread('bird.jpg', cv2.IMREAD_GRAYSCALE)\n",
    "\n",
    "gaussian = add_gaussian_noise(original.copy())\n",
    "print(\"RMS for Gaussian noise:\", rms(original, gaussian))\n",
    "cv2.imwrite('gaussian.jpg', gaussian)"
   ]
  },
  {
   "cell_type": "code",
   "execution_count": 15,
   "metadata": {},
   "outputs": [
    {
     "name": "stdout",
     "output_type": "stream",
     "text": [
      "[ True False False False]\n"
     ]
    }
   ],
   "source": [
    "g1 = np.array([True, False, True, False])\n",
    "g2 = np.array([True, True, False, False])\n",
    "go = np.logical_and(g1, g2)\n",
    "\n",
    "print(go)"
   ]
  },
  {
   "cell_type": "code",
   "execution_count": 31,
   "metadata": {},
   "outputs": [],
   "source": [
    "H, W = original.shape\n",
    "noise = np.random.normal(0, 16, H*W).reshape(H, W)\n",
    "gaussian = original + noise\n",
    "\n",
    "cv2.imshow('img', gaussian)\n",
    "cv2.waitKey(0)\n",
    "cv2.destroyAllWindows()\n"
   ]
  },
  {
   "cell_type": "code",
   "execution_count": 32,
   "metadata": {},
   "outputs": [
    {
     "data": {
      "text/plain": [
       "True"
      ]
     },
     "execution_count": 32,
     "metadata": {},
     "output_type": "execute_result"
    }
   ],
   "source": [
    "cv2.imwrite('gaussian.jpg', gaussian)"
   ]
  },
  {
   "cell_type": "code",
   "execution_count": 34,
   "metadata": {},
   "outputs": [
    {
     "data": {
      "text/plain": [
       "29.91027660796907"
      ]
     },
     "execution_count": 34,
     "metadata": {},
     "output_type": "execute_result"
    }
   ],
   "source": [
    "original.std()"
   ]
  },
  {
   "cell_type": "code",
   "execution_count": 62,
   "metadata": {},
   "outputs": [
    {
     "name": "stdout",
     "output_type": "stream",
     "text": [
      "[ 13.   0. 221. 255. 208. 181. 125. 220. 255. 105. 248.   0. 119.  37.\n",
      " 131. 249.  33. 255.   0. 158.  41. 149.  85. 130. 141.   0.  74. 219.\n",
      "   3. 139. 253.   8. 102. 159. 231.   2.  94. 255. 118. 161.  43. 255.\n",
      "  46. 221. 233.  92. 177.   0. 159. 255.]\n"
     ]
    }
   ],
   "source": [
    "samples = 50\n",
    "\n",
    "image = np.random.randint(0, 256, samples)\n",
    "\n",
    "zeros = np.random.choice([0, 0.3, 0.6], samples, p=(0.1, 0.1, 0.8))\n",
    "image = image * zeros.round()\n",
    "highs = ( np.ones(samples) - (zeros*2).round() ) * 255\n",
    "image = image + highs\n",
    "\n",
    "print(image)"
   ]
  },
  {
   "cell_type": "code",
   "execution_count": 50,
   "metadata": {},
   "outputs": [
    {
     "data": {
      "text/plain": [
       "2"
      ]
     },
     "execution_count": 50,
     "metadata": {},
     "output_type": "execute_result"
    }
   ],
   "source": [
    "round(1.5)"
   ]
  },
  {
   "cell_type": "code",
   "execution_count": 59,
   "metadata": {},
   "outputs": [
    {
     "name": "stdout",
     "output_type": "stream",
     "text": [
      "1.0 0.0 8016.0\n",
      "[1. 1. 1. ... 1. 0. 1.]\n"
     ]
    }
   ],
   "source": [
    "samples = 10000\n",
    "hi = np.random.uniform(0, 2.5, samples)\n",
    "hi = (hi.round() * 0.7).round()\n",
    "print(np.max(hi), np.min(hi), np.sum(hi))\n",
    "\n",
    "print(hi)"
   ]
  },
  {
   "cell_type": "code",
   "execution_count": 17,
   "metadata": {},
   "outputs": [
    {
     "data": {
      "text/plain": [
       "3"
      ]
     },
     "execution_count": 17,
     "metadata": {},
     "output_type": "execute_result"
    }
   ],
   "source": [
    "tast = (1, 2, 3)\n",
    "len(tast)"
   ]
  },
  {
   "cell_type": "code",
   "execution_count": 40,
   "metadata": {},
   "outputs": [
    {
     "name": "stdout",
     "output_type": "stream",
     "text": [
      "[[0. 0. 0. 0. 0.]\n",
      " [0. 3. 4. 7. 0.]\n",
      " [0. 5. 6. 0. 0.]\n",
      " [0. 0. 0. 0. 0.]]\n"
     ]
    }
   ],
   "source": [
    "import numpy as np\n",
    "hoe = np.array([[3,4,7], [5,6, 0]])\n",
    "H, W = hoe.shape\n",
    "K = int((3 - 1)/2)\n",
    "hie = np.zeros((H+(2*K), W+(2*K)))\n",
    "\n",
    "hie[K:H+K,K:W+K] = hoe\n",
    "\n",
    "print(hie)"
   ]
  },
  {
   "cell_type": "code",
   "execution_count": 39,
   "metadata": {},
   "outputs": [
    {
     "data": {
      "text/plain": [
       "2.0"
      ]
     },
     "execution_count": 39,
     "metadata": {},
     "output_type": "execute_result"
    }
   ],
   "source": [
    "(2*K)"
   ]
  },
  {
   "cell_type": "code",
   "execution_count": 42,
   "metadata": {},
   "outputs": [
    {
     "ename": "TypeError",
     "evalue": "unhashable type: 'numpy.ndarray'",
     "output_type": "error",
     "traceback": [
      "\u001b[1;31m---------------------------------------------------------------------------\u001b[0m",
      "\u001b[1;31mTypeError\u001b[0m                                 Traceback (most recent call last)",
      "\u001b[1;32m~\\AppData\\Local\\Temp/ipykernel_31440/1759220697.py\u001b[0m in \u001b[0;36m<module>\u001b[1;34m\u001b[0m\n\u001b[0;32m      1\u001b[0m \u001b[0mkern\u001b[0m \u001b[1;33m=\u001b[0m \u001b[1;36m5\u001b[0m\u001b[1;33m\u001b[0m\u001b[1;33m\u001b[0m\u001b[0m\n\u001b[0;32m      2\u001b[0m \u001b[0mK\u001b[0m \u001b[1;33m=\u001b[0m \u001b[0mint\u001b[0m\u001b[1;33m(\u001b[0m\u001b[1;33m(\u001b[0m\u001b[0mkern\u001b[0m\u001b[1;33m-\u001b[0m\u001b[1;36m1\u001b[0m\u001b[1;33m)\u001b[0m\u001b[1;33m/\u001b[0m\u001b[1;36m2\u001b[0m\u001b[1;33m)\u001b[0m\u001b[1;33m\u001b[0m\u001b[1;33m\u001b[0m\u001b[0m\n\u001b[1;32m----> 3\u001b[1;33m \u001b[0mdx\u001b[0m \u001b[1;33m=\u001b[0m \u001b[1;33m{\u001b[0m\u001b[0mnp\u001b[0m\u001b[1;33m.\u001b[0m\u001b[0mones\u001b[0m\u001b[1;33m(\u001b[0m\u001b[0mkern\u001b[0m\u001b[1;33m)\u001b[0m\u001b[1;33m*\u001b[0m\u001b[1;33m(\u001b[0m\u001b[0mK\u001b[0m\u001b[1;33m-\u001b[0m\u001b[0mi\u001b[0m\u001b[1;33m)\u001b[0m \u001b[1;32mfor\u001b[0m \u001b[0mi\u001b[0m \u001b[1;32min\u001b[0m \u001b[0mrange\u001b[0m\u001b[1;33m(\u001b[0m\u001b[0mkern\u001b[0m\u001b[1;33m)\u001b[0m\u001b[1;33m}\u001b[0m\u001b[1;33m\u001b[0m\u001b[1;33m\u001b[0m\u001b[0m\n\u001b[0m",
      "\u001b[1;32m~\\AppData\\Local\\Temp/ipykernel_31440/1759220697.py\u001b[0m in \u001b[0;36m<setcomp>\u001b[1;34m(.0)\u001b[0m\n\u001b[0;32m      1\u001b[0m \u001b[0mkern\u001b[0m \u001b[1;33m=\u001b[0m \u001b[1;36m5\u001b[0m\u001b[1;33m\u001b[0m\u001b[1;33m\u001b[0m\u001b[0m\n\u001b[0;32m      2\u001b[0m \u001b[0mK\u001b[0m \u001b[1;33m=\u001b[0m \u001b[0mint\u001b[0m\u001b[1;33m(\u001b[0m\u001b[1;33m(\u001b[0m\u001b[0mkern\u001b[0m\u001b[1;33m-\u001b[0m\u001b[1;36m1\u001b[0m\u001b[1;33m)\u001b[0m\u001b[1;33m/\u001b[0m\u001b[1;36m2\u001b[0m\u001b[1;33m)\u001b[0m\u001b[1;33m\u001b[0m\u001b[1;33m\u001b[0m\u001b[0m\n\u001b[1;32m----> 3\u001b[1;33m \u001b[0mdx\u001b[0m \u001b[1;33m=\u001b[0m \u001b[1;33m{\u001b[0m\u001b[0mnp\u001b[0m\u001b[1;33m.\u001b[0m\u001b[0mones\u001b[0m\u001b[1;33m(\u001b[0m\u001b[0mkern\u001b[0m\u001b[1;33m)\u001b[0m\u001b[1;33m*\u001b[0m\u001b[1;33m(\u001b[0m\u001b[0mK\u001b[0m\u001b[1;33m-\u001b[0m\u001b[0mi\u001b[0m\u001b[1;33m)\u001b[0m \u001b[1;32mfor\u001b[0m \u001b[0mi\u001b[0m \u001b[1;32min\u001b[0m \u001b[0mrange\u001b[0m\u001b[1;33m(\u001b[0m\u001b[0mkern\u001b[0m\u001b[1;33m)\u001b[0m\u001b[1;33m}\u001b[0m\u001b[1;33m\u001b[0m\u001b[1;33m\u001b[0m\u001b[0m\n\u001b[0m",
      "\u001b[1;31mTypeError\u001b[0m: unhashable type: 'numpy.ndarray'"
     ]
    }
   ],
   "source": [
    "kern = 5\n",
    "K = int((kern-1)/2)\n",
    "dx = {np.ones(kern)*(K-i) for i in range(kern)}"
   ]
  },
  {
   "cell_type": "code",
   "execution_count": 43,
   "metadata": {},
   "outputs": [
    {
     "data": {
      "text/plain": [
       "array([0., 0., 0.])"
      ]
     },
     "execution_count": 43,
     "metadata": {},
     "output_type": "execute_result"
    }
   ],
   "source": [
    "np.zeros(3)"
   ]
  },
  {
   "cell_type": "code",
   "execution_count": 46,
   "metadata": {},
   "outputs": [],
   "source": [
    "import cv2\n",
    "jj = cv2.imread('./test_images/cat_noisy.jpg')\n",
    "\n",
    "H, W, C = jj.shape"
   ]
  },
  {
   "cell_type": "code",
   "execution_count": 47,
   "metadata": {},
   "outputs": [
    {
     "name": "stdout",
     "output_type": "stream",
     "text": [
      "427 640 3\n"
     ]
    }
   ],
   "source": [
    "print(H ,W ,C)"
   ]
  },
  {
   "cell_type": "code",
   "execution_count": 58,
   "metadata": {},
   "outputs": [
    {
     "name": "stdout",
     "output_type": "stream",
     "text": [
      "[[[6 4 7]\n",
      "  [1 6 3]\n",
      "  [4 4 2]\n",
      "  [1 1 2]\n",
      "  [1 3 9]\n",
      "  [4 7 7]]\n",
      "\n",
      " [[8 6 3]\n",
      "  [1 5 8]\n",
      "  [8 2 8]\n",
      "  [8 1 1]\n",
      "  [4 7 8]\n",
      "  [7 3 6]]]\n",
      "[[[6 1 4 1 1 4]\n",
      "  [8 1 8 8 4 7]]\n",
      "\n",
      " [[4 6 4 1 3 7]\n",
      "  [6 5 2 1 7 3]]\n",
      "\n",
      " [[7 3 2 2 9 7]\n",
      "  [3 8 8 1 8 6]]]\n"
     ]
    },
    {
     "ename": "ValueError",
     "evalue": "cannot reshape array of size 36 into shape (3,)",
     "output_type": "error",
     "traceback": [
      "\u001b[1;31m---------------------------------------------------------------------------\u001b[0m",
      "\u001b[1;31mValueError\u001b[0m                                Traceback (most recent call last)",
      "\u001b[1;32m~\\AppData\\Local\\Temp/ipykernel_31440/2087169617.py\u001b[0m in \u001b[0;36m<module>\u001b[1;34m\u001b[0m\n\u001b[0;32m      7\u001b[0m \u001b[0mprint\u001b[0m\u001b[1;33m(\u001b[0m\u001b[0mh1\u001b[0m\u001b[1;33m)\u001b[0m\u001b[1;33m\u001b[0m\u001b[1;33m\u001b[0m\u001b[0m\n\u001b[0;32m      8\u001b[0m \u001b[1;33m\u001b[0m\u001b[0m\n\u001b[1;32m----> 9\u001b[1;33m \u001b[0mh2\u001b[0m \u001b[1;33m=\u001b[0m \u001b[0mh1\u001b[0m\u001b[1;33m.\u001b[0m\u001b[0mreshape\u001b[0m\u001b[1;33m(\u001b[0m\u001b[1;36m3\u001b[0m\u001b[1;33m,\u001b[0m \u001b[1;33m)\u001b[0m\u001b[1;33m\u001b[0m\u001b[1;33m\u001b[0m\u001b[0m\n\u001b[0m\u001b[0;32m     10\u001b[0m \u001b[0mprint\u001b[0m\u001b[1;33m(\u001b[0m\u001b[0mh2\u001b[0m\u001b[1;33m)\u001b[0m\u001b[1;33m\u001b[0m\u001b[1;33m\u001b[0m\u001b[0m\n",
      "\u001b[1;31mValueError\u001b[0m: cannot reshape array of size 36 into shape (3,)"
     ]
    }
   ],
   "source": [
    "kernel_size = 5\n",
    "\n",
    "hh = np.random.randint(1, 10, (2, 6, 3))\n",
    "print(hh)\n",
    "\n",
    "h1 = hh.transpose(2, 0, 1)\n",
    "print(h1)\n",
    "\n",
    "h2 = h1.reshape(3, )\n",
    "print(h2)"
   ]
  },
  {
   "cell_type": "code",
   "execution_count": 68,
   "metadata": {},
   "outputs": [],
   "source": [
    "kernel_size = 3\n",
    "img = np.random.randint(1, 10, (2, 6, 3))\n"
   ]
  },
  {
   "cell_type": "code",
   "execution_count": 69,
   "metadata": {},
   "outputs": [],
   "source": [
    "\n",
    "H, W, C = img.shape\n",
    "K = int((kernel_size-1)/2)\n",
    "img = img.transpose(2, 0, 1)\n",
    "padded_img = np.zeros((C, 2*K+H, 2*K+W))\n",
    "padded_img[:, K:K+H, K:K+W] = img\n",
    "\n",
    "filter = np.zeros((kernel_size, kernel_size)) / (kernel_size**2)\n",
    "filter = filter.reshape(-1, 1)\n",
    "\n",
    "filtered_img = np.zeros((H, W, C))\n",
    "for i in range(H):\n",
    "    for j in range(W):\n",
    "        window = padded_img[:, i:i+kernel_size, j:j+kernel_size].reshape(C, -1)\n",
    "        filtered_img[i,j,:] = np.dot(window, filter).reshape(-1)"
   ]
  },
  {
   "cell_type": "code",
   "execution_count": 70,
   "metadata": {},
   "outputs": [
    {
     "data": {
      "text/plain": [
       "(2, 6, 3)"
      ]
     },
     "execution_count": 70,
     "metadata": {},
     "output_type": "execute_result"
    }
   ],
   "source": [
    "filtered_img.shape"
   ]
  },
  {
   "cell_type": "code",
   "execution_count": 104,
   "metadata": {},
   "outputs": [
    {
     "name": "stdout",
     "output_type": "stream",
     "text": [
      "[[ 3 -2]\n",
      " [ 4  3]\n",
      " [ 7  8]]\n",
      "\n",
      "[[1]\n",
      " [2]]\n",
      "\n",
      "[[-1]\n",
      " [10]\n",
      " [23]]\n",
      "(3, 2) (2, 1)\n"
     ]
    }
   ],
   "source": [
    "import numpy as np\n",
    "\n",
    "a = np.array([[3, -2], [4,3], [7,8]])\n",
    "d = np.array([[0, 0], [0,1], [0,0]])\n",
    "b = np.array([1, 2]).reshape(-1,1)\n",
    "\n",
    "c = np.dot(a, b)\n",
    "\n",
    "print(a, b, c, sep='\\n\\n')\n",
    "print(a.shape, b.shape)"
   ]
  },
  {
   "cell_type": "code",
   "execution_count": 63,
   "metadata": {},
   "outputs": [
    {
     "name": "stdout",
     "output_type": "stream",
     "text": [
      "[[-2 -1  0  1  2]\n",
      " [-2 -1  0  1  2]\n",
      " [-2 -1  0  1  2]\n",
      " [-2 -1  0  1  2]\n",
      " [-2 -1  0  1  2]]\n",
      "\n",
      "[[-2 -2 -2 -2 -2]\n",
      " [-1 -1 -1 -1 -1]\n",
      " [ 0  0  0  0  0]\n",
      " [ 1  1  1  1  1]\n",
      " [ 2  2  2  2  2]]\n"
     ]
    }
   ],
   "source": [
    "kernel_size = 5\n",
    "K = int((kernel_size-1)/2)\n",
    "\n",
    "a = np.arange(kernel_size) - K\n",
    "#b = np.concatenate([a for i in range(kernel_size)], axis=1)\n",
    "c = np.stack([a for i in range(kernel_size)])\n",
    "d = np.hstack([a.reshape(-1,1) for i in range(kernel_size)])\n",
    "\n",
    "\n",
    "print(c, d, sep='\\n\\n')"
   ]
  },
  {
   "cell_type": "code",
   "execution_count": 71,
   "metadata": {},
   "outputs": [
    {
     "name": "stdout",
     "output_type": "stream",
     "text": [
      "[[0.64118039 0.75746513 0.8007374  0.75746513 0.64118039 0.75746513\n",
      "  0.89483932 0.94595947 0.89483932 0.75746513 0.8007374  0.94595947\n",
      "  1.         0.94595947 0.8007374  0.75746513 0.89483932 0.94595947\n",
      "  0.89483932 0.75746513 0.64118039 0.75746513 0.8007374  0.75746513\n",
      "  0.64118039]]\n"
     ]
    }
   ],
   "source": [
    "sigma_s = 3\n",
    "\n",
    "d = np.arange(kernel_size) - K\n",
    "dx = np.stack([d for i in range(kernel_size)])\n",
    "dy = np.hstack([d.reshape(-1,1) for i in range(kernel_size)])\n",
    "G_s = np.exp( - (dx**2 + dy**2) / (2*sigma_s**2) ).reshape(1, -1)\n",
    "\n",
    "print(G_s)"
   ]
  },
  {
   "cell_type": "code",
   "execution_count": 70,
   "metadata": {},
   "outputs": [
    {
     "data": {
      "text/plain": [
       "18"
      ]
     },
     "execution_count": 70,
     "metadata": {},
     "output_type": "execute_result"
    }
   ],
   "source": [
    "2*sigma_s**2\n"
   ]
  },
  {
   "cell_type": "code",
   "execution_count": 100,
   "metadata": {},
   "outputs": [
    {
     "name": "stdout",
     "output_type": "stream",
     "text": [
      "[[7 5 3 3 2 7 4 4 2]\n",
      " [6 6 9 6 7 5 4 9 4]\n",
      " [5 6 1 1 9 2 6 2 1]]\n",
      "\n",
      "[[0.89483932 0.94595947 0.89483932 0.94595947 1.         0.94595947\n",
      "  0.89483932 0.94595947 0.89483932]]\n",
      "\n",
      "[[0.12110333 0.38889556 0.71653131 0.75746513 0.94595947 0.12802169\n",
      "  0.54274748 0.57375342 0.84648172]\n",
      " [0.36787944 0.38889556 0.05881647 0.38889556 0.24935221 0.57375342\n",
      "  0.71653131 0.06217652 0.71653131]\n",
      " [0.36787944 0.23587708 0.89483932 0.94595947 0.0285655  0.89483932\n",
      "  0.22313016 0.89483932 0.89483932]]\n",
      "\n",
      "[0.02411956 0.10442719 0.06836931]\n"
     ]
    }
   ],
   "source": [
    "kernel_size = 3\n",
    "d = np.arange(kernel_size) - 1\n",
    "dx = np.stack([d for i in range(kernel_size)])\n",
    "dy = np.hstack([d.reshape(-1,1) for i in range(kernel_size)])\n",
    "G_s = np.exp( - (dx**2 + dy**2) / (2*sigma_s**2) ).reshape(1, -1)\n",
    "\n",
    "img = np.random.randint(1, 10, (3, 3, 3))\n",
    "img = img.reshape(3, -1)\n",
    "\n",
    "go = [[1], [2], [1]]\n",
    "go = np.array(go)\n",
    "\n",
    "gh = np.exp( - (img - go)**2  / (2*sigma_s**2) )\n",
    "\n",
    "gl = gh * G_s\n",
    "\n",
    "gs = gl/gl.sum(axis=1).reshape(-1, 1)\n",
    "\n",
    "gs = gs[:,0]\n",
    "\n",
    "print(img, G_s, gl, gs, sep = '\\n\\n')"
   ]
  },
  {
   "cell_type": "code",
   "execution_count": 105,
   "metadata": {},
   "outputs": [
    {
     "data": {
      "text/plain": [
       "array([127, 126, 106])"
      ]
     },
     "execution_count": 105,
     "metadata": {},
     "output_type": "execute_result"
    }
   ],
   "source": [
    "img = np.random.randint(1, 10, (3, 5, 5))\n",
    "img.sum((1,2))"
   ]
  },
  {
   "cell_type": "code",
   "execution_count": 9,
   "metadata": {},
   "outputs": [
    {
     "name": "stdout",
     "output_type": "stream",
     "text": [
      "[3. +4.j  3.5+4.5j 4. +5.j  4.5+5.5j 5. +6.j ]\n"
     ]
    }
   ],
   "source": [
    "import numpy as np\n",
    "\n",
    "a = 3 + 4j\n",
    "b = 5 + 6j\n",
    "\n",
    "o = np.linspace(a, b, 5)\n",
    "\n",
    "print(o)\n"
   ]
  },
  {
   "cell_type": "code",
   "execution_count": 16,
   "metadata": {},
   "outputs": [
    {
     "ename": "TypeError",
     "evalue": "unsupported format string passed to list.__format__",
     "output_type": "error",
     "traceback": [
      "\u001b[1;31m---------------------------------------------------------------------------\u001b[0m",
      "\u001b[1;31mTypeError\u001b[0m                                 Traceback (most recent call last)",
      "\u001b[1;32m~\\AppData\\Local\\Temp/ipykernel_20832/2563596933.py\u001b[0m in \u001b[0;36m<module>\u001b[1;34m\u001b[0m\n\u001b[0;32m      1\u001b[0m \u001b[0mrmss\u001b[0m \u001b[1;33m=\u001b[0m \u001b[1;33m[\u001b[0m\u001b[1;36m1.33333\u001b[0m\u001b[1;33m,\u001b[0m \u001b[1;36m4.32222\u001b[0m\u001b[1;33m,\u001b[0m \u001b[1;36m4.55675\u001b[0m\u001b[1;33m]\u001b[0m\u001b[1;33m\u001b[0m\u001b[1;33m\u001b[0m\u001b[0m\n\u001b[1;32m----> 2\u001b[1;33m \u001b[0mprint\u001b[0m\u001b[1;33m(\u001b[0m\u001b[0mrmss\u001b[0m\u001b[1;33m.\u001b[0m\u001b[0m__format__\u001b[0m\u001b[1;33m(\u001b[0m\u001b[1;34m\":.3f\"\u001b[0m\u001b[1;33m)\u001b[0m\u001b[1;33m)\u001b[0m\u001b[1;33m\u001b[0m\u001b[1;33m\u001b[0m\u001b[0m\n\u001b[0m",
      "\u001b[1;31mTypeError\u001b[0m: unsupported format string passed to list.__format__"
     ]
    }
   ],
   "source": [
    "rmss = [1.33333, 4.32222, 4.55675]\n",
    "print(rmss.__format__(\":.3f\"))"
   ]
  },
  {
   "cell_type": "code",
   "execution_count": 21,
   "metadata": {},
   "outputs": [
    {
     "data": {
      "text/plain": [
       "0j"
      ]
     },
     "execution_count": 21,
     "metadata": {},
     "output_type": "execute_result"
    }
   ],
   "source": [
    "np.complex128(np.imag(1))"
   ]
  },
  {
   "cell_type": "code",
   "execution_count": null,
   "metadata": {},
   "outputs": [],
   "source": []
  }
 ],
 "metadata": {
  "interpreter": {
   "hash": "f3770e73af5ef2dd71ff5d609037a48d9f4381c59e369c5448d24575c71408ec"
  },
  "kernelspec": {
   "display_name": "Python 3.9.7 64-bit",
   "language": "python",
   "name": "python3"
  },
  "language_info": {
   "codemirror_mode": {
    "name": "ipython",
    "version": 3
   },
   "file_extension": ".py",
   "mimetype": "text/x-python",
   "name": "python",
   "nbconvert_exporter": "python",
   "pygments_lexer": "ipython3",
   "version": "3.9.7"
  },
  "orig_nbformat": 4
 },
 "nbformat": 4,
 "nbformat_minor": 2
}
